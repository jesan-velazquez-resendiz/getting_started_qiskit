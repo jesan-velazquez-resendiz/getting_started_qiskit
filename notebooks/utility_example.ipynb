{
 "cells": [
  {
   "cell_type": "code",
   "execution_count": 29,
   "metadata": {},
   "outputs": [],
   "source": [
    "from qiskit import QuantumCircuit\n",
    "from qiskit.quantum_info import Pauli, SparsePauliOp\n",
    "from qiskit_aer.primitives import Estimator\n",
    "import matplotlib.pyplot as plt\n",
    "from qiskit_ibm_runtime import QiskitRuntimeService, EstimatorV2, EstimatorOptions\n",
    "from qiskit.transpiler.preset_passmanagers import generate_preset_pass_manager"
   ]
  },
  {
   "cell_type": "code",
   "execution_count": null,
   "metadata": {},
   "outputs": [],
   "source": [
    "# setting up the service\n",
    "service = QiskitRuntimeService(channel='ibm_quantum',\n",
    "                               token='87f82131330e8f3630c9998b85e000569b57a405e9d152e188000d3864901c8ee6106712bdb2410b20cf366224821e6e9a5c622249b2b9da0ffc2c3342cfcfa8')"
   ]
  },
  {
   "cell_type": "markdown",
   "metadata": {},
   "source": [
    "## $n$-qubit GHZ state\n",
    "\n",
    "Let's extend the Hello World 1-qubit example to something more realistic, an $n$-qubit GHZ state. This is $\\ket{\\psi}=A\\left(\\ket{0\\cdots 0} + \\ket{1\\cdots 1}\\right)$ where $A$ is the normalization"
   ]
  },
  {
   "cell_type": "code",
   "execution_count": 14,
   "metadata": {},
   "outputs": [],
   "source": [
    "# contruct a function to make the process more flexible\n",
    "def qc_n_ghz_state(n):\n",
    "    qc = QuantumCircuit(n)\n",
    "    # apply hadamard gate\n",
    "    qc.h(0)\n",
    "    # apply ladder of CNOTs\n",
    "    for i in range(n-1):\n",
    "        qc.cx(control_qubit=i, target_qubit=i+1)\n",
    "\n",
    "    return qc\n",
    "\n",
    "# example\n",
    "n = 100\n",
    "qc = qc_n_ghz_state(n)\n",
    "#qc.draw(output='mpl')"
   ]
  },
  {
   "cell_type": "code",
   "execution_count": 15,
   "metadata": {},
   "outputs": [
    {
     "name": "stdout",
     "output_type": "stream",
     "text": [
      "99\n"
     ]
    }
   ],
   "source": [
    "# see the expectation value of ZZ for any pair of qubits to see the errors\n",
    "operator_strings = ['Z'+'I'*i+'Z'+'I'*(n-2-i) for i in range(n-1)]\n",
    "#print(operator_strings)\n",
    "print(len(operator_strings))\n",
    "\n",
    "# create operators\n",
    "operators = [SparsePauliOp(operator_string) for operator_string in operator_strings]"
   ]
  },
  {
   "cell_type": "code",
   "execution_count": 46,
   "metadata": {},
   "outputs": [],
   "source": [
    "# now we want to optimize for quantum execution\n",
    "#backend_name = 'ibm_brisbane'\n",
    "#backend = service.backend(name=backend_name)\n",
    "backend = service.least_busy(min_num_qubits=100, operational=True)\n",
    "pass_manager = generate_preset_pass_manager(optimization_level=1, backend=backend)\n",
    "\n",
    "# transpile\n",
    "qc_transpiled = pass_manager.run(qc)\n",
    "operators_transpiled = [op.apply_layout(qc_transpiled.layout) for op in operators]"
   ]
  },
  {
   "cell_type": "code",
   "execution_count": null,
   "metadata": {},
   "outputs": [
    {
     "name": "stdout",
     "output_type": "stream",
     "text": [
      "czp6k0wd8drg008gantg\n"
     ]
    }
   ],
   "source": [
    "# # execute on the backend\n",
    "# options = EstimatorOptions()\n",
    "# options.resilience_level = 1\n",
    "# #options.optimization_level = 0\n",
    "# options.dynamical_decoupling.enable = True\n",
    "# options.dynamical_decoupling.sequence_type = 'XY4'\n",
    "\n",
    "# estimator = EstimatorV2(backend, options=options)\n",
    "\n",
    "# # run\n",
    "# job = estimator.run([(qc_transpiled, operators_transpiled)])\n",
    "# # id\n",
    "# job_id = job.job_id()\n",
    "# print(job_id)"
   ]
  },
  {
   "cell_type": "code",
   "execution_count": null,
   "metadata": {},
   "outputs": [],
   "source": [
    "# post processing\n",
    "job_id = 'czp6k0wd8drg008gantg'\n",
    "job = service.job(job_id)\n",
    "\n",
    "data = list(range(1, len(operators)+1))\n",
    "result = job.result()[0]\n",
    "values = result.data.evs\n",
    "values = [v/values[0] for v in values]\n",
    "\n",
    "# plot\n",
    "fig, ax = plt.subplots()\n",
    "\n",
    "ax.scatter(data, values, marker='-o', label='100-qubit GHZ state')\n",
    "ax.set_xlabel('Distance between qubits $i$')\n",
    "ax.set_ylabel('$\\\\langle Z_0Z_i \\\\rangle \\\\langle Z_0Z_1 \\\\rangle$')\n",
    "ax.grid()\n",
    "ax.legend()"
   ]
  },
  {
   "cell_type": "code",
   "execution_count": null,
   "metadata": {},
   "outputs": [],
   "source": []
  }
 ],
 "metadata": {
  "kernelspec": {
   "display_name": "gswq",
   "language": "python",
   "name": "python3"
  },
  "language_info": {
   "codemirror_mode": {
    "name": "ipython",
    "version": 3
   },
   "file_extension": ".py",
   "mimetype": "text/x-python",
   "name": "python",
   "nbconvert_exporter": "python",
   "pygments_lexer": "ipython3",
   "version": "3.13.2"
  }
 },
 "nbformat": 4,
 "nbformat_minor": 2
}
