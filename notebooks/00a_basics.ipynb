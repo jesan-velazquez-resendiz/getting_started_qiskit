{
 "cells": [
  {
   "cell_type": "markdown",
   "metadata": {},
   "source": [
    "## Circuit concepts and definitions\n",
    "\n",
    "**qubit**\n",
    "The basic unit of quantum information.\n",
    "\n",
    "**unitary operation**\n",
    "A reversible operation on a quantum state. All quantum gates are unitary operations (by definition).\n",
    "\n",
    "**abstract cricuit**\n",
    "A circuit defined in terms of abstract mathematical operations and virtual qubits.\n",
    "\n",
    "**ancilla qubit**\n",
    "An extra qubit that is used to help implement operations on other qubits, but whose final state is not important for the program.\n",
    "\n",
    "**virtual qubit**\n",
    "An abstract, mathematical qubit used to build an abstract circuit. Virtual qubits are how one typically thinks about quantum algorithms at a high level; we assume that all quantum gates are valid on all virtual qubits, and all virtual qubits are always connected to every other virtual qubit.\n",
    "\n",
    "**circuit**\n",
    "A computational routine the defines a single execution to be taken on a QPU. This can either be an abstract circuit or a physical circuit\n",
    "\n",
    "**clbit**\n",
    "A Qiskit-specific abbreviation meaning a single classical bit of data.\n",
    "\n",
    "**gate**\n",
    "A unitary operation on one or more qubits.\n",
    "\n",
    "**logical qubit**\n",
    "A collection of several physical qubits that are controlled together by a QPU (from the user’s perspective) to apply real-time quantum error correction. A logical qubit is a type of hardware qubit for Qiskit.\n",
    "\n",
    "**hardware qubit**\n",
    "The representation of a single qubit on a particular QPU. A hardware qubit has some physical quantum-mechanical system backing it, such as superconducting circuits; unlike a virtual qubit, it has particular coupling constraints and only certain gates can be applied to certain groups of hardware qubits. Qiskit does not distinguish logical qubits from any individual physical qubits when talking about hardware qubits. \n",
    "\n",
    "**Instruction set architecture**\n",
    "The abstract model of which operations are available on which sets of hardware qubits on one particular QPU.\n",
    "\n",
    "**measurement**\n",
    "The act of extracting one classical bit of a data from a single qubit state.\n",
    "\n",
    "**physical circuit**\n",
    "A circuit defined in terms of hardware qubits and only the quantum operations available in a particular QPU’s ISA.\n",
    "\n",
    "**physical qubit**\n",
    "A controllable two-level quantum system. This is literally one “physics” qubit, such as a transmon or the electronic state of a trapped ion.\n",
    "\n",
    "**quantum processing unit (QPU)**\n",
    "Analogous to a CPU in classical computing or a GPU in graphics processing, a QPU is the hardware that runs quantum operations on quantum data.\n",
    "\n",
    "**real-time classical computation**\n",
    "Any classical computation that can happen within the execution of a single shot of a circuit, where the results of the classical computation can affect later execution of the circuit."
   ]
  },
  {
   "cell_type": "code",
   "execution_count": 35,
   "metadata": {},
   "outputs": [],
   "source": [
    "from qiskit import QuantumCircuit, transpile\n",
    "from qiskit.quantum_info import Statevector, Operator\n",
    "from qiskit.visualization import plot_histogram\n",
    "from qiskit_aer import AerSimulator\n",
    "import numpy as np"
   ]
  },
  {
   "cell_type": "markdown",
   "metadata": {},
   "source": [
    "## Quantum circuit model\n",
    "\n",
    "The fundamental element of quantum computing is the _quantum circuit_. This is a computational routine that can be run, one shot at a time, on a quantum processing unit (QPU). A circuit will act on qubits qith unitary operations (gates), measurements and resets. A quantum circuit can contain operations on classical data.\n",
    "\n",
    "Circuits are at a low level of abstraction when building up quantum programs. They are the construct that is used to build up to higher levels of abstraction, such as the [primitives of quantum computation](https://docs.quantum.ibm.com/api/qiskit/primitives#qiskit-primitives), which accumulate data from many shots of quantum-circuit execution, along with advanced error-mitigation techniques and measurement optimizations, into well-typed classical data and error statistics.\n",
    "\n",
    "In Qiskit, we can construct circuits from\n",
    "- abstract circuits (cirtual qubits)\n",
    "- physical circuits (hardware wubits from a backend)\n",
    "\n",
    "We can convert an abstract circuit into a physical circuit using [Qiskit's transpilation package](https://docs.quantum.ibm.com/api/qiskit/transpiler#qiskit-transpiler), of which the top level access point is [transpile()](https://docs.quantum.ibm.com/api/qiskit/compiler#qiskit.compiler.transpile).\n",
    "\n",
    "For example, we can define the GHZ state\n",
    "$$ \\ket{\\psi}=\\frac{\\ket{000}+\\ket{111}}{\\sqrt{2}} $$"
   ]
  },
  {
   "cell_type": "code",
   "execution_count": 2,
   "metadata": {},
   "outputs": [
    {
     "data": {
      "image/png": "[encoded data removed]",
      "text/plain": [
       "<Figure size 371.107x284.278 with 1 Axes>"
      ]
     },
     "execution_count": 2,
     "metadata": {},
     "output_type": "execute_result"
    }
   ],
   "source": [
    "# create the circuit with a register with the number of qubits, in this case 3\n",
    "qc = QuantumCircuit(3, name='first_qc')\n",
    "# now apply the gates to form the GHZ state\n",
    "qc.h(0)\n",
    "qc.cx(control_qubit=0, target_qubit=1)\n",
    "qc.cx(control_qubit=0, target_qubit=2)\n",
    "# draw the circuit\n",
    "qc.draw(output='mpl')"
   ]
  },
  {
   "cell_type": "markdown",
   "metadata": {},
   "source": [
    "Now let's create a simple vector state and measure it"
   ]
  },
  {
   "cell_type": "code",
   "execution_count": 7,
   "metadata": {},
   "outputs": [
    {
     "data": {
      "text/latex": [
       "$$(\\frac{1}{3} + \\frac{2 i}{3}) |0\\rangle- \\frac{2}{3} |1\\rangle$$"
      ],
      "text/plain": [
       "<IPython.core.display.Latex object>"
      ]
     },
     "execution_count": 7,
     "metadata": {},
     "output_type": "execute_result"
    }
   ],
   "source": [
    "u = Statevector([1 / np.sqrt(2), 1 / np.sqrt(2)])\n",
    "v = Statevector([(1 + 2.0j) / 3, -2 / 3])\n",
    "w = Statevector([1 / 3, 2 / 3])\n",
    "v.draw('latex')"
   ]
  },
  {
   "cell_type": "code",
   "execution_count": null,
   "metadata": {},
   "outputs": [
    {
     "data": {
      "text/latex": [
       "$$- |1\\rangle$$"
      ],
      "text/plain": [
       "<IPython.core.display.Latex object>"
      ]
     },
     "execution_count": 10,
     "metadata": {},
     "output_type": "execute_result"
    }
   ],
   "source": [
    "# measure one state vector one time\n",
    "outcome, state = v.measure()\n",
    "state.draw('latex')"
   ]
  },
  {
   "cell_type": "code",
   "execution_count": 12,
   "metadata": {},
   "outputs": [
    {
     "data": {
      "image/png": "[encoded data removed]",
      "text/plain": [
       "<Figure size 640x480 with 1 Axes>"
      ]
     },
     "execution_count": 12,
     "metadata": {},
     "output_type": "execute_result"
    }
   ],
   "source": [
    "# maesure the state n-times and plot\n",
    "stats = v.sample_counts(shots=100)\n",
    "plot_histogram(stats)"
   ]
  },
  {
   "cell_type": "markdown",
   "metadata": {},
   "source": [
    "I can also evolve this state with some unitary operations. I can define my own operators"
   ]
  },
  {
   "cell_type": "code",
   "execution_count": 20,
   "metadata": {},
   "outputs": [
    {
     "data": {
      "text/latex": [
       "$$\\frac{\\sqrt{2}}{2} |0\\rangle+\\frac{\\sqrt{2}}{2} |1\\rangle$$"
      ],
      "text/plain": [
       "<IPython.core.display.Latex object>"
      ]
     },
     "metadata": {},
     "output_type": "display_data"
    },
    {
     "data": {
      "text/latex": [
       "$$\\frac{\\sqrt{2}}{2} |0\\rangle+(\\frac{1}{2} + \\frac{i}{2}) |1\\rangle$$"
      ],
      "text/plain": [
       "<IPython.core.display.Latex object>"
      ]
     },
     "metadata": {},
     "output_type": "display_data"
    },
    {
     "data": {
      "text/latex": [
       "$$(0.8535533906 + 0.3535533906 i) |0\\rangle+(0.1464466094 - 0.3535533906 i) |1\\rangle$$"
      ],
      "text/plain": [
       "<IPython.core.display.Latex object>"
      ]
     },
     "metadata": {},
     "output_type": "display_data"
    },
    {
     "data": {
      "text/latex": [
       "$$(0.8535533906 + 0.3535533906 i) |0\\rangle+(0.3535533906 + 0.1464466094 i) |1\\rangle$$"
      ],
      "text/plain": [
       "<IPython.core.display.Latex object>"
      ]
     },
     "metadata": {},
     "output_type": "display_data"
    },
    {
     "data": {
      "text/latex": [
       "$$(0.1464466094 - 0.3535533906 i) |0\\rangle+(-0.3535533906 + 0.8535533906 i) |1\\rangle$$"
      ],
      "text/plain": [
       "<IPython.core.display.Latex object>"
      ]
     },
     "metadata": {},
     "output_type": "display_data"
    }
   ],
   "source": [
    "# we can perform operations and create our operator\n",
    "Y = Operator([[0, -1.0j], [1.0j, 0]])\n",
    "H = Operator([[1 / np.sqrt(2), 1 / np.sqrt(2)], [1 / np.sqrt(2), -1 / np.sqrt(2)]])\n",
    "S = Operator([[1, 0], [0, 1.0j]])\n",
    "T = Operator([[1, 0], [0, (1 + 1.0j) / np.sqrt(2)]])\n",
    "# list of operators, I can modify the evolution\n",
    "ops = [H, T, H, S, Y]\n",
    "\n",
    "# and we can evolve a state\n",
    "v = Statevector([1, 0])\n",
    "for operator in ops:\n",
    "    v = v.evolve(operator)\n",
    "    display(v.draw('latex'))"
   ]
  },
  {
   "cell_type": "markdown",
   "metadata": {},
   "source": [
    "But there is a more efficient way to do this"
   ]
  },
  {
   "cell_type": "code",
   "execution_count": 44,
   "metadata": {},
   "outputs": [
    {
     "data": {
      "image/png": "[encoded data removed]",
      "text/plain": [
       "<Figure size 519.897x117.056 with 1 Axes>"
      ]
     },
     "execution_count": 44,
     "metadata": {},
     "output_type": "execute_result"
    }
   ],
   "source": [
    "# define quantum circuit of one qubit\n",
    "qc = QuantumCircuit(1)\n",
    "\n",
    "# apply the gates. That is, evolve the state\n",
    "qc.h(0)\n",
    "qc.t(0)\n",
    "qc.h(0)\n",
    "qc.s(0)\n",
    "qc.y(0)\n",
    "\n",
    "# draw the circuit\n",
    "qc.draw(output='mpl')"
   ]
  },
  {
   "cell_type": "markdown",
   "metadata": {},
   "source": [
    "And we can derive the matrix from the circuit"
   ]
  },
  {
   "cell_type": "code",
   "execution_count": 45,
   "metadata": {},
   "outputs": [
    {
     "data": {
      "text/latex": [
       "$$\n",
       "\n",
       "\\begin{bmatrix}\n",
       "0.1464466094 - 0.3535533906 i & 0.8535533906 + 0.3535533906 i  \\\\\n",
       " -0.3535533906 + 0.8535533906 i & 0.3535533906 + 0.1464466094 i  \\\\\n",
       " \\end{bmatrix}\n",
       "$$"
      ],
      "text/plain": [
       "<IPython.core.display.Latex object>"
      ]
     },
     "execution_count": 45,
     "metadata": {},
     "output_type": "execute_result"
    }
   ],
   "source": [
    "Operator.from_circuit(qc).draw('latex')"
   ]
  },
  {
   "cell_type": "markdown",
   "metadata": {},
   "source": [
    "So we can initialize a state and then evolve it with this matrix"
   ]
  },
  {
   "cell_type": "code",
   "execution_count": 47,
   "metadata": {},
   "outputs": [
    {
     "data": {
      "image/png": "[encoded data removed]",
      "text/plain": [
       "<Figure size 640x480 with 1 Axes>"
      ]
     },
     "execution_count": 47,
     "metadata": {},
     "output_type": "execute_result"
    }
   ],
   "source": [
    "# initialize the state at |0>\n",
    "ket0 = Statevector([1, 0])\n",
    "# evolve with the quantum circuit\n",
    "evo  = ket0.evolve(qc)\n",
    "\n",
    "# run and plot the results\n",
    "stats = evo.sample_counts(shots=100)\n",
    "plot_histogram(stats)"
   ]
  },
  {
   "cell_type": "code",
   "execution_count": null,
   "metadata": {},
   "outputs": [],
   "source": []
  },
  {
   "cell_type": "code",
   "execution_count": null,
   "metadata": {},
   "outputs": [],
   "source": []
  },
  {
   "cell_type": "code",
   "execution_count": null,
   "metadata": {},
   "outputs": [],
   "source": []
  }
 ],
 "metadata": {
  "kernelspec": {
   "display_name": "gswq",
   "language": "python",
   "name": "python3"
  },
  "language_info": {
   "codemirror_mode": {
    "name": "ipython",
    "version": 3
   },
   "file_extension": ".py",
   "mimetype": "text/x-python",
   "name": "python",
   "nbconvert_exporter": "python",
   "pygments_lexer": "ipython3",
   "version": "3.13.2"
  }
 },
 "nbformat": 4,
 "nbformat_minor": 2
}
