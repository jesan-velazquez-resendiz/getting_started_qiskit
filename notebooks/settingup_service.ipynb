{
 "cells": [
  {
   "cell_type": "code",
   "execution_count": null,
   "metadata": {},
   "outputs": [
    {
     "data": {
      "text/plain": [
       "<QiskitRuntimeService>"
      ]
     },
     "execution_count": 4,
     "metadata": {},
     "output_type": "execute_result"
    }
   ],
   "source": [
    "import qiskit\n",
    "from qiskit_ibm_runtime import QiskitRuntimeService"
   ]
  },
  {
   "cell_type": "code",
   "execution_count": 5,
   "metadata": {},
   "outputs": [
    {
     "data": {
      "text/plain": [
       "127"
      ]
     },
     "execution_count": 5,
     "metadata": {},
     "output_type": "execute_result"
    }
   ],
   "source": [
    "# setting up the service\n",
    "service = QiskitRuntimeService(channel='ibm_quantum',\n",
    "                               token='87f82131330e8f3630c9998b85e000569b57a405e9d152e188000d3864901c8ee6106712bdb2410b20cf366224821e6e9a5c622249b2b9da0ffc2c3342cfcfa8')\n",
    "# also we can save the account to avoid write the service over and over again\n",
    "QiskitRuntimeService(channel='ibm_quantum',\n",
    "                     token='87f82131330e8f3630c9998b85e000569b57a405e9d152e188000d3864901c8ee6106712bdb2410b20cf366224821e6e9a5c622249b2b9da0ffc2c3342cfcfa8')\n",
    "\n",
    "# backend\n",
    "backend = service.backend(name='ibm_brisbane')\n",
    "backend.num_qubits"
   ]
  },
  {
   "cell_type": "code",
   "execution_count": null,
   "metadata": {},
   "outputs": [],
   "source": []
  }
 ],
 "metadata": {
  "kernelspec": {
   "display_name": "gswq",
   "language": "python",
   "name": "python3"
  },
  "language_info": {
   "codemirror_mode": {
    "name": "ipython",
    "version": 3
   },
   "file_extension": ".py",
   "mimetype": "text/x-python",
   "name": "python",
   "nbconvert_exporter": "python",
   "pygments_lexer": "ipython3",
   "version": "3.13.2"
  }
 },
 "nbformat": 4,
 "nbformat_minor": 2
}
