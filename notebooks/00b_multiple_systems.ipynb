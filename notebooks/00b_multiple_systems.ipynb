{
 "cells": [
  {
   "cell_type": "markdown",
   "id": "4946959f",
   "metadata": {},
   "source": [
    "## Multiple systems\n",
    "\n",
    "We now see how to operate n-qubits"
   ]
  },
  {
   "cell_type": "code",
   "execution_count": 8,
   "id": "c0898979",
   "metadata": {},
   "outputs": [],
   "source": [
    "from qiskit.quantum_info import Statevector, Operator\n",
    "from qiskit.circuit.library import CXGate\n",
    "from numpy import sqrt"
   ]
  },
  {
   "cell_type": "markdown",
   "id": "ae32dc07",
   "metadata": {},
   "source": [
    "We can perform a tensor product for vector states"
   ]
  },
  {
   "cell_type": "code",
   "execution_count": 5,
   "id": "e64096c9",
   "metadata": {},
   "outputs": [
    {
     "data": {
      "text/latex": [
       "$$ |01\\rangle$$"
      ],
      "text/plain": [
       "<IPython.core.display.Latex object>"
      ]
     },
     "metadata": {},
     "output_type": "display_data"
    },
    {
     "data": {
      "text/latex": [
       "$$\\frac{1}{2} |00\\rangle- \\frac{i}{2} |01\\rangle+\\frac{1}{2} |10\\rangle- \\frac{i}{2} |11\\rangle$$"
      ],
      "text/plain": [
       "<IPython.core.display.Latex object>"
      ]
     },
     "metadata": {},
     "output_type": "display_data"
    },
    {
     "data": {
      "text/latex": [
       "$$\\frac{1}{2} |00\\rangle- \\frac{1}{2} |01\\rangle+\\frac{1}{2} |10\\rangle- \\frac{1}{2} |11\\rangle$$"
      ],
      "text/plain": [
       "<IPython.core.display.Latex object>"
      ]
     },
     "metadata": {},
     "output_type": "display_data"
    }
   ],
   "source": [
    "# create the basic states\n",
    "zero = Statevector.from_label('0')\n",
    "one  = Statevector.from_label('1')\n",
    "psi  = zero.tensor(one)\n",
    "\n",
    "# we can create other states, we only change the basis\n",
    "plus  = Statevector.from_label('+')\n",
    "min_i = Statevector.from_label('l')\n",
    "phi   = plus.tensor(min_i)\n",
    "\n",
    "# we can also make plus^min_i for the tensor product in Qiskit\n",
    "minus = Statevector.from_label('-')\n",
    "alpha = plus^minus\n",
    "\n",
    "# print\n",
    "display(psi.draw('latex'))\n",
    "display(phi.draw('latex'))\n",
    "display(alpha.draw('latex'))"
   ]
  },
  {
   "cell_type": "markdown",
   "id": "19996e9d",
   "metadata": {},
   "source": [
    "For operators is the same"
   ]
  },
  {
   "cell_type": "code",
   "execution_count": 6,
   "id": "58ddefd4",
   "metadata": {},
   "outputs": [
    {
     "data": {
      "text/latex": [
       "$$\n",
       "\n",
       "\\begin{bmatrix}\n",
       "0 & \\frac{\\sqrt{2}}{2} & 0 & 0 & 0 & \\frac{\\sqrt{2}}{2} & 0 & 0  \\\\\n",
       " \\frac{\\sqrt{2}}{2} & 0 & 0 & 0 & \\frac{\\sqrt{2}}{2} & 0 & 0 & 0  \\\\\n",
       " 0 & 0 & 0 & \\frac{\\sqrt{2}}{2} & 0 & 0 & 0 & \\frac{\\sqrt{2}}{2}  \\\\\n",
       " 0 & 0 & \\frac{\\sqrt{2}}{2} & 0 & 0 & 0 & \\frac{\\sqrt{2}}{2} & 0  \\\\\n",
       " 0 & \\frac{\\sqrt{2}}{2} & 0 & 0 & 0 & - \\frac{\\sqrt{2}}{2} & 0 & 0  \\\\\n",
       " \\frac{\\sqrt{2}}{2} & 0 & 0 & 0 & - \\frac{\\sqrt{2}}{2} & 0 & 0 & 0  \\\\\n",
       " 0 & 0 & 0 & \\frac{\\sqrt{2}}{2} & 0 & 0 & 0 & - \\frac{\\sqrt{2}}{2}  \\\\\n",
       " 0 & 0 & \\frac{\\sqrt{2}}{2} & 0 & 0 & 0 & - \\frac{\\sqrt{2}}{2} & 0  \\\\\n",
       " \\end{bmatrix}\n",
       "$$"
      ],
      "text/plain": [
       "<IPython.core.display.Latex object>"
      ]
     },
     "metadata": {},
     "output_type": "display_data"
    }
   ],
   "source": [
    "# define operators\n",
    "H = Operator.from_label('H')\n",
    "I = Operator.from_label('I')\n",
    "X = Operator.from_label('X')\n",
    "\n",
    "# perfor the tensor product and print the matrix\n",
    "t = H^I^X\n",
    "display(t.draw('latex'))"
   ]
  },
  {
   "cell_type": "markdown",
   "id": "8dcffd46",
   "metadata": {},
   "source": [
    "We can evolve a state in the same manner as before. It is worth remebering that\n",
    "\n",
    "$$ (H\\otimes I)(\\ket{+}\\otimes\\ket{-i}) = HI\\ket{+}\\ket{-i} = H\\ket{+}I\\ket{-i} $$"
   ]
  },
  {
   "cell_type": "code",
   "execution_count": 7,
   "id": "a7f5baf7",
   "metadata": {},
   "outputs": [
    {
     "data": {
      "text/latex": [
       "$$\\frac{\\sqrt{2}}{2} |00\\rangle- \\frac{\\sqrt{2} i}{2} |01\\rangle$$"
      ],
      "text/plain": [
       "<IPython.core.display.Latex object>"
      ]
     },
     "metadata": {},
     "output_type": "display_data"
    }
   ],
   "source": [
    "# define the state\n",
    "plus  = Statevector.from_label('+')\n",
    "min_i = Statevector.from_label('l')\n",
    "phi   = plus.tensor(min_i)\n",
    "\n",
    "# evolution\n",
    "evo = phi.evolve(H^I)\n",
    "display(evo.draw('latex'))"
   ]
  },
  {
   "cell_type": "markdown",
   "id": "41f20fec",
   "metadata": {},
   "source": [
    "We can see the action of the CNOT operator"
   ]
  },
  {
   "cell_type": "code",
   "execution_count": 16,
   "id": "c7efc860",
   "metadata": {},
   "outputs": [
    {
     "data": {
      "text/latex": [
       "$$\\frac{\\sqrt{2}}{2} |00\\rangle+\\frac{\\sqrt{2}}{2} |11\\rangle$$"
      ],
      "text/plain": [
       "<IPython.core.display.Latex object>"
      ]
     },
     "execution_count": 16,
     "metadata": {},
     "output_type": "execute_result"
    }
   ],
   "source": [
    "# define the operator\n",
    "CX = Operator(\n",
    "    [[1, 0, 0, 0],\n",
    "     [0, 1, 0, 0],\n",
    "     [0, 0, 0, 1],\n",
    "     [0, 0, 1, 0]])\n",
    "\n",
    "# define the state\n",
    "psi = plus^zero\n",
    "\n",
    "# evolve state\n",
    "evo = psi.evolve(CX)\n",
    "evo.draw('latex')"
   ]
  },
  {
   "cell_type": "markdown",
   "id": "9846496c",
   "metadata": {},
   "source": [
    "A partial measurement is when we measure one of the qubits of the system. The function *measure* applies for all qubits if none argument is given, but we can give some argument to specify the qubit we want to measure.\n",
    "\n",
    "In qiskit, the notation of the qubits is from right to left."
   ]
  },
  {
   "cell_type": "code",
   "execution_count": 31,
   "id": "4b176d22",
   "metadata": {},
   "outputs": [
    {
     "data": {
      "text/latex": [
       "$$\\frac{\\sqrt{3}}{3} |001\\rangle+\\frac{\\sqrt{3}}{3} |010\\rangle+\\frac{\\sqrt{3}}{3} |100\\rangle$$"
      ],
      "text/plain": [
       "<IPython.core.display.Latex object>"
      ]
     },
     "metadata": {},
     "output_type": "display_data"
    },
    {
     "name": "stdout",
     "output_type": "stream",
     "text": [
      "Measured: 1\n",
      "State after measurement:\n"
     ]
    },
    {
     "data": {
      "text/latex": [
       "$$ |001\\rangle$$"
      ],
      "text/plain": [
       "<IPython.core.display.Latex object>"
      ]
     },
     "metadata": {},
     "output_type": "display_data"
    },
    {
     "name": "stdout",
     "output_type": "stream",
     "text": [
      "Measured: 00\n",
      "State after measurement:\n"
     ]
    },
    {
     "data": {
      "text/latex": [
       "$$ |100\\rangle$$"
      ],
      "text/plain": [
       "<IPython.core.display.Latex object>"
      ]
     },
     "metadata": {},
     "output_type": "display_data"
    }
   ],
   "source": [
    "# define the state\n",
    "w = Statevector([0, 1, 1, 0, 1, 0, 0, 0] / sqrt(3))\n",
    "display(w.draw(\"latex\"))\n",
    "\n",
    "# measurement 0 of q0\n",
    "result, state = w.measure([0])\n",
    "print(f\"Measured: {result}\\nState after measurement:\")\n",
    "display(state.draw(\"latex\"))\n",
    "\n",
    "# measurement 00 of q0q1\n",
    "result, state = w.measure([0,1])\n",
    "print(f\"Measured: {result}\\nState after measurement:\")\n",
    "display(state.draw(\"latex\"))"
   ]
  },
  {
   "cell_type": "code",
   "execution_count": null,
   "id": "d5101972",
   "metadata": {},
   "outputs": [],
   "source": []
  }
 ],
 "metadata": {
  "kernelspec": {
   "display_name": "gswq",
   "language": "python",
   "name": "python3"
  },
  "language_info": {
   "codemirror_mode": {
    "name": "ipython",
    "version": 3
   },
   "file_extension": ".py",
   "mimetype": "text/x-python",
   "name": "python",
   "nbconvert_exporter": "python",
   "pygments_lexer": "ipython3",
   "version": "3.13.2"
  }
 },
 "nbformat": 4,
 "nbformat_minor": 5
}
